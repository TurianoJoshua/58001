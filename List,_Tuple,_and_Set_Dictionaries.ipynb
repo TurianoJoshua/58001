{
  "nbformat": 4,
  "nbformat_minor": 0,
  "metadata": {
    "colab": {
      "provenance": [],
      "authorship_tag": "ABX9TyPyYIc9WdDOVblSnvAKzHXB",
      "include_colab_link": true
    },
    "kernelspec": {
      "name": "python3",
      "display_name": "Python 3"
    },
    "language_info": {
      "name": "python"
    }
  },
  "cells": [
    {
      "cell_type": "markdown",
      "metadata": {
        "id": "view-in-github",
        "colab_type": "text"
      },
      "source": [
        "<a href=\"https://colab.research.google.com/github/TurianoJoshua/OOP-58001/blob/main/List%2C_Tuple%2C_and_Set_Dictionaries.ipynb\" target=\"_parent\"><img src=\"https://colab.research.google.com/assets/colab-badge.svg\" alt=\"Open In Colab\"/></a>"
      ]
    },
    {
      "cell_type": "markdown",
      "source": [
        "Functions\n",
        "\n"
      ],
      "metadata": {
        "id": "CviGkyLpJf0h"
      }
    },
    {
      "cell_type": "code",
      "execution_count": 12,
      "metadata": {
        "colab": {
          "base_uri": "https://localhost:8080/"
        },
        "id": "aqZ4usNHI5c8",
        "outputId": "d0e0ccc9-570c-4ebd-bfd5-6758d53d3049"
      },
      "outputs": [
        {
          "output_type": "execute_result",
          "data": {
            "text/plain": [
              "50"
            ]
          },
          "metadata": {},
          "execution_count": 12
        }
      ],
      "source": [
        "class persons:\n",
        "  def __init__(self,length,width):\n",
        "    self.length = length\n",
        "    self.width = width\n",
        "  def area(self):\n",
        "    return self.length * self.width\n",
        "\n",
        "rectangle = persons(10,5)\n",
        "rectangle.area()"
      ]
    },
    {
      "cell_type": "code",
      "source": [
        "class Persons:\n",
        "  def __init__(self, name, age):\n",
        "    self.name = name\n",
        "    self.age = age\n",
        "\n",
        "  def func(self):\n",
        "    print(\"my name is \" + self.name +\" and my age is \"+ self.age)\n",
        "\n",
        "f1 = Persons(\"Joshua Turiano\", \"19\")\n",
        "f1.func()\n",
        "  "
      ],
      "metadata": {
        "colab": {
          "base_uri": "https://localhost:8080/"
        },
        "id": "UJGungstOHSo",
        "outputId": "a4f3f041-17c6-4803-9222-d92008f309f9"
      },
      "execution_count": 22,
      "outputs": [
        {
          "output_type": "stream",
          "name": "stdout",
          "text": [
            "my name is Joshua Turiano and my age is 19\n"
          ]
        }
      ]
    },
    {
      "cell_type": "markdown",
      "source": [
        "List"
      ],
      "metadata": {
        "id": "t3LzezIET2qX"
      }
    },
    {
      "cell_type": "code",
      "source": [
        "pi = 3.14159\n",
        "varList = [\"abc\",1,\"def,\",2]\n",
        "print(varList[0])\n",
        "\n",
        "varList.append(\"ghi\")\n",
        "print(varList)\n",
        "varList.remove(2)\n",
        "print(varList)\n",
        "varList.insert(3,3)\n",
        "print(varList)"
      ],
      "metadata": {
        "colab": {
          "base_uri": "https://localhost:8080/"
        },
        "id": "vI8DsGoaT3h_",
        "outputId": "b1ab4a7d-3ec1-4393-a505-e8b8c80db011"
      },
      "execution_count": 26,
      "outputs": [
        {
          "output_type": "stream",
          "name": "stdout",
          "text": [
            "abc\n",
            "['abc', 1, 'def,', 2, 'ghi']\n",
            "['abc', 1, 'def,', 'ghi']\n",
            "['abc', 1, 'def,', 3, 'ghi']\n"
          ]
        }
      ]
    },
    {
      "cell_type": "markdown",
      "source": [
        "Dictionaries"
      ],
      "metadata": {
        "id": "HbFP1vBpWMQS"
      }
    },
    {
      "cell_type": "code",
      "source": [
        "Students = {\n",
        "    1:\"kuya\",\n",
        "    2:\"coco\",\n",
        "    3:\"yara\",\n",
        "    4:\"cokefloat\",\n",
        "\n",
        "}\n",
        "print(Students)"
      ],
      "metadata": {
        "colab": {
          "base_uri": "https://localhost:8080/"
        },
        "id": "AmnLACLnWNxS",
        "outputId": "f9c8a294-933e-4dec-88a9-7c51783bc52a"
      },
      "execution_count": 28,
      "outputs": [
        {
          "output_type": "stream",
          "name": "stdout",
          "text": [
            "{1: 'kuya', 2: 'coco', 3: 'yara', 4: 'cokefloat'}\n"
          ]
        }
      ]
    }
  ]
}