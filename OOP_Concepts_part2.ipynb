{
  "nbformat": 4,
  "nbformat_minor": 0,
  "metadata": {
    "colab": {
      "provenance": [],
      "authorship_tag": "ABX9TyNZEsR1ejkXd8W++pJxOu2T",
      "include_colab_link": true
    },
    "kernelspec": {
      "name": "python3",
      "display_name": "Python 3"
    },
    "language_info": {
      "name": "python"
    }
  },
  "cells": [
    {
      "cell_type": "markdown",
      "metadata": {
        "id": "view-in-github",
        "colab_type": "text"
      },
      "source": [
        "<a href=\"https://colab.research.google.com/github/TurianoJoshua/OOP-58001/blob/main/OOP_Concepts_part2.ipynb\" target=\"_parent\"><img src=\"https://colab.research.google.com/assets/colab-badge.svg\" alt=\"Open In Colab\"/></a>"
      ]
    },
    {
      "cell_type": "markdown",
      "source": [
        "Class with Multiple Objects"
      ],
      "metadata": {
        "id": "fLmJewtcVibt"
      }
    },
    {
      "cell_type": "code",
      "execution_count": null,
      "metadata": {
        "colab": {
          "base_uri": "https://localhost:8080/"
        },
        "id": "ufhrjJdMVTnS",
        "outputId": "37bb7039-bd72-4cf9-b87c-f192be667c86"
      },
      "outputs": [
        {
          "output_type": "stream",
          "name": "stdout",
          "text": [
            "Griffon Vulture flies above clouds\n",
            "Common Crane flies above clouds\n",
            "Emu is the national bird of Philippines\n"
          ]
        }
      ],
      "source": [
        "class Birds:\n",
        "  def __init__(self,bird_name):\n",
        "    self.bird_name = bird_name\n",
        "  def flying_bird(self):\n",
        "      print(f\"{self.bird_name} flies above clouds\")\n",
        "  def non_flying_birds(self):\n",
        "      print(f\"{self.bird_name} is the national bird of Philippines\")\n",
        "vulture = Birds(\"Griffon Vulture\")\n",
        "crane = Birds(\"Common Crane\")\n",
        "emu = Birds(\"Emu\")\n",
        "\n",
        "vulture.flying_bird()\n",
        "crane.flying_bird()\n",
        "emu.non_flying_birds()"
      ]
    },
    {
      "cell_type": "markdown",
      "source": [
        "Encapsulation"
      ],
      "metadata": {
        "id": "QKCfgJ6fYowt"
      }
    },
    {
      "cell_type": "code",
      "source": [
        "class foo:\n",
        "  def __init__(self,a,b):\n",
        "    self.__a = a\n",
        "    self.__b = b\n",
        "  def add(self):\n",
        "    return self.__a + self.__b\n",
        "foo_object = foo(3,4)\n",
        "foo_object.add()\n",
        "foo_object.a = 5\n",
        "foo_object.add()"
      ],
      "metadata": {
        "colab": {
          "base_uri": "https://localhost:8080/"
        },
        "id": "SprQhqE1YqZV",
        "outputId": "c58a637c-a0b3-4690-92e2-0e31e944a1cb"
      },
      "execution_count": null,
      "outputs": [
        {
          "output_type": "execute_result",
          "data": {
            "text/plain": [
              "7"
            ]
          },
          "metadata": {},
          "execution_count": 19
        }
      ]
    },
    {
      "cell_type": "code",
      "source": [
        "class Counter:\n",
        "  def __init__(self):\n",
        "    self.current = 0\n",
        "\n",
        "  def increment(self):\n",
        "    self.current += 1\n",
        "\n",
        "  def value(self):\n",
        "    return self.current\n",
        "\n",
        "  def reset(self):\n",
        "    self.current = 0\n",
        "\n",
        "counter = Counter()\n",
        "counter.increment()\n",
        "counter.value()\n",
        "counter.reset()\n",
        "counter.value()"
      ],
      "metadata": {
        "colab": {
          "base_uri": "https://localhost:8080/"
        },
        "id": "rjgMfwZ0b6Cx",
        "outputId": "85df6273-6de1-4d0a-d4cc-ec46f3270abb"
      },
      "execution_count": null,
      "outputs": [
        {
          "output_type": "execute_result",
          "data": {
            "text/plain": [
              "0"
            ]
          },
          "metadata": {},
          "execution_count": 22
        }
      ]
    },
    {
      "cell_type": "markdown",
      "source": [
        "Inheritance"
      ],
      "metadata": {
        "id": "sSWHRNUKd_Zx"
      }
    },
    {
      "cell_type": "code",
      "source": [
        "class Person:\n",
        "  def __init__(self, name, birthday):\n",
        "    self.name= name\n",
        "    self.birthday = birthday\n",
        "  def display(self):\n",
        "    print(f\"My name is\", self.name)\n",
        "    print(f\"My birthday\",self.birthday)\n",
        "class Student(Person):\n",
        "  pass\n",
        "class Teacher(Student):\n",
        "  pass\n",
        "student = Student(\"Yuan ching\",\"Febuary 31, 1969\")\n",
        "student.display()\n",
        "teacher = Teacher(\"Ding dong\", \"March 22, 2003\")\n",
        "teacher.display()"
      ],
      "metadata": {
        "colab": {
          "base_uri": "https://localhost:8080/"
        },
        "id": "KUOAFK0SeCiA",
        "outputId": "9dde871b-7ae4-40c9-d85d-e4b9f4409c5a"
      },
      "execution_count": null,
      "outputs": [
        {
          "output_type": "stream",
          "name": "stdout",
          "text": [
            "My name is Yuan ching\n",
            "My birthday Febuary 31, 1969\n",
            "My name is Ding dong\n",
            "My birthday March 22, 2003\n"
          ]
        }
      ]
    },
    {
      "cell_type": "code",
      "source": [
        "class Shapes():\n",
        "  def __init__(self, shape, side):\n",
        "    self.__side = side\n",
        "    self.__shape = shape\n",
        "\n",
        "  def display(self):\n",
        "    print(f\"The name of this shape is\", self.__shape)\n",
        "    print(f\"The number of sides of this shape is\", self.__side)\n",
        "\n",
        "class Diamond(Shapes):\n",
        "  pass\n",
        "class Box(Shapes):\n",
        "  pass\n",
        "class Oval(Shapes):\n",
        "  pass\n",
        "class Rectangle(Shapes):\n",
        "  pass\n",
        "class Trapezoid(Shapes):\n",
        "  pass\n",
        "\n",
        "box = Box(\"Box\",4)\n",
        "box.display()\n",
        "diamond = Diamond(\"Diamond\",4)\n",
        "diamond.display()\n",
        "oval = Oval(\"Oval\",\"No sides\")\n",
        "oval.display()\n",
        "rectangle = Rectangle(\"Rectangle\",4)\n",
        "rectangle.display()\n",
        "trapezoid = Trapezoid(\"Trapezoid\",4)\n",
        "trapezoid.display()\n",
        "\n",
        "  "
      ],
      "metadata": {
        "colab": {
          "base_uri": "https://localhost:8080/"
        },
        "id": "maurOt_1ghU2",
        "outputId": "60f28216-2741-4e9f-f5db-2e02b77eff00"
      },
      "execution_count": 55,
      "outputs": [
        {
          "output_type": "stream",
          "name": "stdout",
          "text": [
            "The name of this shape is Box\n",
            "The number of sides of this shape is 4\n",
            "The name of this shape is Diamond\n",
            "The number of sides of this shape is 4\n",
            "The name of this shape is Oval\n",
            "The number of sides of this shape is No sides\n",
            "The name of this shape is Rectangle\n",
            "The number of sides of this shape is 4\n",
            "The name of this shape is Trapezoid\n",
            "The number of sides of this shape is 4\n"
          ]
        }
      ]
    }
  ]
}