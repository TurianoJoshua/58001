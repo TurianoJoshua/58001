{
  "nbformat": 4,
  "nbformat_minor": 0,
  "metadata": {
    "colab": {
      "provenance": [],
      "authorship_tag": "ABX9TyN6iPhyg2Hy/6KK9IYtU1xI",
      "include_colab_link": true
    },
    "kernelspec": {
      "name": "python3",
      "display_name": "Python 3"
    },
    "language_info": {
      "name": "python"
    }
  },
  "cells": [
    {
      "cell_type": "markdown",
      "metadata": {
        "id": "view-in-github",
        "colab_type": "text"
      },
      "source": [
        "<a href=\"https://colab.research.google.com/github/TurianoJoshua/OOP-58001/blob/main/Hands_on_No_1.ipynb\" target=\"_parent\"><img src=\"https://colab.research.google.com/assets/colab-badge.svg\" alt=\"Open In Colab\"/></a>"
      ]
    },
    {
      "cell_type": "markdown",
      "source": [
        "Polymorphism"
      ],
      "metadata": {
        "id": "4TcgJnCfZLtC"
      }
    },
    {
      "cell_type": "code",
      "execution_count": 1,
      "metadata": {
        "id": "dJGznJ3WZGHM"
      },
      "outputs": [],
      "source": [
        "class RegularPolygon:\n",
        "  def __init__(self,side):\n",
        "    self.side = side\n",
        "class Square(RegularPolygon):\n",
        "  def area(self):\n",
        "    return self.side * self.side\n",
        "class EquilateralTriangle(RegularPolygon):\n",
        "  def area(self):\n",
        "    return self.side * self.side * 0.433"
      ]
    },
    {
      "cell_type": "markdown",
      "source": [
        "Hands on No.1"
      ],
      "metadata": {
        "id": "-yKoj-e5af7j"
      }
    },
    {
      "cell_type": "code",
      "source": [
        "class Person:\n",
        "  def __init__(self,student,prelim,midterm,finals):\n",
        "    self.__prelim = prelim\n",
        "    self.__midterm = midterm\n",
        "    self.__finals = finals\n",
        "    self.__student = student\n",
        "\n",
        "\n",
        "  def display(self):\n",
        "    print(f\"the score of the\",self.__student,\"in prelim is\", self.__prelim)\n",
        "    print(f\"the score of the\",self.__student,\"in midterm is\", self.__midterm)\n",
        "    print(f\"the score of the\",self.__student,\"in finals is\", self.__finals)\n",
        "    print(f\"the average of the\",self.__student,\"of the semester is\",(self.__prelim + self.__midterm + self.__finals)/3)\n",
        "\n",
        "class Std1(Person):\n",
        "  pass\n",
        "class Std2(Person):\n",
        "  pass\n",
        "class Std3(Person):\n",
        "  pass\n",
        "\n",
        "std1 = Std1(\"Std1\",75,87,67)\n",
        "std1.display()\n",
        "std2 = Std2(\"Std2\",78,60,90)\n",
        "std2.display()\n",
        "std3 = Std3(\"Std3\",90,87,86)\n",
        "std3.display()"
      ],
      "metadata": {
        "colab": {
          "base_uri": "https://localhost:8080/"
        },
        "id": "YaeJtFCRah2i",
        "outputId": "0d16a3b1-d910-40dd-aca4-d02a5f18d5c6"
      },
      "execution_count": 17,
      "outputs": [
        {
          "output_type": "stream",
          "name": "stdout",
          "text": [
            "the score of the Std1 in prelim is 75\n",
            "the score of the Std1 in midterm is 87\n",
            "the score of the Std1 in finals is 67\n",
            "the average of the Std1 of the semester is 76.33333333333333\n",
            "the score of the Std2 in prelim is 78\n",
            "the score of the Std2 in midterm is 60\n",
            "the score of the Std2 in finals is 90\n",
            "the average of the Std2 of the semester is 76.0\n",
            "the score of the Std3 in prelim is 90\n",
            "the score of the Std3 in midterm is 87\n",
            "the score of the Std3 in finals is 86\n",
            "the average of the Std3 of the semester is 87.66666666666667\n"
          ]
        }
      ]
    }
  ]
}