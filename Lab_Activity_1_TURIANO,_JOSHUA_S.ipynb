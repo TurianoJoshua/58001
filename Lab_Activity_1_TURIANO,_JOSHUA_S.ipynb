{
  "nbformat": 4,
  "nbformat_minor": 0,
  "metadata": {
    "colab": {
      "provenance": [],
      "authorship_tag": "ABX9TyOYtlbV8ptGer8w9omZdivZ",
      "include_colab_link": true
    },
    "kernelspec": {
      "name": "python3",
      "display_name": "Python 3"
    },
    "language_info": {
      "name": "python"
    }
  },
  "cells": [
    {
      "cell_type": "markdown",
      "metadata": {
        "id": "view-in-github",
        "colab_type": "text"
      },
      "source": [
        "<a href=\"https://colab.research.google.com/github/TurianoJoshua/OOP-58001/blob/main/Lab_Activity_1_TURIANO%2C_JOSHUA_S.ipynb\" target=\"_parent\"><img src=\"https://colab.research.google.com/assets/colab-badge.svg\" alt=\"Open In Colab\"/></a>"
      ]
    },
    {
      "cell_type": "code",
      "execution_count": 21,
      "metadata": {
        "colab": {
          "base_uri": "https://localhost:8080/"
        },
        "id": "EIK4BOW3Gz4E",
        "outputId": "65963050-9c8f-409a-c492-b900fe4e5dd4"
      },
      "outputs": [
        {
          "output_type": "stream",
          "name": "stdout",
          "text": [
            "sum =  210\n",
            "Average=  10.5\n"
          ]
        }
      ],
      "source": [
        "n = 20\n",
        "totalnumbers=n\n",
        "sum = 0\n",
        "average = 0\n",
        "while n >= 0:\n",
        "  sum += n\n",
        "  n -= 1\n",
        "print(\"sum = \",sum)\n",
        "average = sum / totalnumbers\n",
        "print(\"Average= \",average)\n"
      ]
    }
  ]
}