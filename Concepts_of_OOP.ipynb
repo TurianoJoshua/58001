{
  "nbformat": 4,
  "nbformat_minor": 0,
  "metadata": {
    "colab": {
      "provenance": [],
      "authorship_tag": "ABX9TyPDTTKSYrIkrGKGHxOwSaSL",
      "include_colab_link": true
    },
    "kernelspec": {
      "name": "python3",
      "display_name": "Python 3"
    },
    "language_info": {
      "name": "python"
    }
  },
  "cells": [
    {
      "cell_type": "markdown",
      "metadata": {
        "id": "view-in-github",
        "colab_type": "text"
      },
      "source": [
        "<a href=\"https://colab.research.google.com/github/TurianoJoshua/OOP-58001/blob/main/Concepts_of_OOP.ipynb\" target=\"_parent\"><img src=\"https://colab.research.google.com/assets/colab-badge.svg\" alt=\"Open In Colab\"/></a>"
      ]
    },
    {
      "cell_type": "code",
      "execution_count": null,
      "metadata": {
        "id": "GKF2mlu4PshM"
      },
      "outputs": [],
      "source": [
        "class Car:\n",
        "  pass"
      ]
    },
    {
      "cell_type": "code",
      "source": [
        "class MyNumber:\n",
        "  x = 5\n",
        "\n",
        "num1 = MyNumber()\n",
        "print(num1.x)"
      ],
      "metadata": {
        "colab": {
          "base_uri": "https://localhost:8080/"
        },
        "id": "kfCS2KHpQOnj",
        "outputId": "9d14fcb1-838b-4d72-af4b-6ccb3c1d4822"
      },
      "execution_count": null,
      "outputs": [
        {
          "output_type": "stream",
          "name": "stdout",
          "text": [
            "5\n"
          ]
        }
      ]
    },
    {
      "cell_type": "code",
      "source": [
        "class Person:\n",
        "  def __init__(self,name,age):\n",
        "    self.name = name\n",
        "    self.age = age\n",
        "  def myFunction(self):\n",
        "    print(\"Hello, my name is\",self.name)\n",
        "person = Person(\"Hana\",36)\n",
        "\n",
        "person.myFunction()"
      ],
      "metadata": {
        "id": "ilPCY5IDQo7C",
        "colab": {
          "base_uri": "https://localhost:8080/"
        },
        "outputId": "7c0426f4-5449-4121-9b43-5fe820d74bbf"
      },
      "execution_count": 28,
      "outputs": [
        {
          "output_type": "stream",
          "name": "stdout",
          "text": [
            "Hello, my name is Hana\n"
          ]
        }
      ]
    },
    {
      "cell_type": "code",
      "source": [
        "person.name = \"james\"\n",
        "print(person.name)\n",
        "person.myFunction()"
      ],
      "metadata": {
        "colab": {
          "base_uri": "https://localhost:8080/"
        },
        "id": "Ziq0O3-KScsF",
        "outputId": "7232832b-55f4-4bce-9482-c596f67edbc0"
      },
      "execution_count": 29,
      "outputs": [
        {
          "output_type": "stream",
          "name": "stdout",
          "text": [
            "james\n",
            "Hello, my name is james\n"
          ]
        }
      ]
    },
    {
      "cell_type": "code",
      "source": [
        "del person.age\n",
        "person.myFunction()\n",
        "print(print.name)"
      ],
      "metadata": {
        "colab": {
          "base_uri": "https://localhost:8080/",
          "height": 217
        },
        "id": "jxaS4Zv6S646",
        "outputId": "24b59a91-0427-4525-dc0a-1ed9ccd3e49c"
      },
      "execution_count": 30,
      "outputs": [
        {
          "output_type": "stream",
          "name": "stdout",
          "text": [
            "Hello, my name is james\n"
          ]
        },
        {
          "output_type": "error",
          "ename": "AttributeError",
          "evalue": "ignored",
          "traceback": [
            "\u001b[0;31m---------------------------------------------------------------------------\u001b[0m",
            "\u001b[0;31mAttributeError\u001b[0m                            Traceback (most recent call last)",
            "\u001b[0;32m<ipython-input-30-097d5b6c0a1a>\u001b[0m in \u001b[0;36m<module>\u001b[0;34m\u001b[0m\n\u001b[1;32m      1\u001b[0m \u001b[0;32mdel\u001b[0m \u001b[0mperson\u001b[0m\u001b[0;34m.\u001b[0m\u001b[0mage\u001b[0m\u001b[0;34m\u001b[0m\u001b[0;34m\u001b[0m\u001b[0m\n\u001b[1;32m      2\u001b[0m \u001b[0mperson\u001b[0m\u001b[0;34m.\u001b[0m\u001b[0mmyFunction\u001b[0m\u001b[0;34m(\u001b[0m\u001b[0;34m)\u001b[0m\u001b[0;34m\u001b[0m\u001b[0;34m\u001b[0m\u001b[0m\n\u001b[0;32m----> 3\u001b[0;31m \u001b[0mprint\u001b[0m\u001b[0;34m(\u001b[0m\u001b[0mprint\u001b[0m\u001b[0;34m.\u001b[0m\u001b[0mname\u001b[0m\u001b[0;34m)\u001b[0m\u001b[0;34m\u001b[0m\u001b[0;34m\u001b[0m\u001b[0m\n\u001b[0m",
            "\u001b[0;31mAttributeError\u001b[0m: 'builtin_function_or_method' object has no attribute 'name'"
          ]
        }
      ]
    },
    {
      "cell_type": "code",
      "source": [
        "class Shapes:\n",
        "  def __init__(self,side):    #initial function to name the attributes\n",
        "    self.side = side\n",
        "\n",
        "  def area(self):             #method/formula to compute for the area of a square\n",
        "    return self.side*self.side\n",
        "  \n",
        "  def display(self):          #method to display the area\n",
        "    print(\"the area of the square is\",self.area())\n",
        "\n",
        "square = Shapes(4)\n",
        "square.display()"
      ],
      "metadata": {
        "colab": {
          "base_uri": "https://localhost:8080/"
        },
        "id": "6aK7pG6JVVRy",
        "outputId": "72d7e374-b04d-49d4-d473-8f7ab472db10"
      },
      "execution_count": 26,
      "outputs": [
        {
          "output_type": "stream",
          "name": "stdout",
          "text": [
            "the area of the square is 16\n"
          ]
        }
      ]
    },
    {
      "cell_type": "code",
      "source": [
        "class student:\n",
        "  def __init__(self,name,schoolnumber,schoolname):\n",
        "    self.name = name\n",
        "    self.schoolnumber = schoolnumber\n",
        "    self.schoolname = schoolname\n",
        "  def myFunction(self):\n",
        "    print(\"Hello, my name is\",self.name,\"and my schoolnumber is\",self.schoolnumber,\"from the school of\",self.schoolname)\n",
        "person = student(\"Turiano,Joshua S.\",202210028,\"Adamson University\")\n",
        "\n",
        "person.myFunction()"
      ],
      "metadata": {
        "colab": {
          "base_uri": "https://localhost:8080/"
        },
        "id": "53FkW5KYVQn8",
        "outputId": "0c2d29f5-4d71-4bca-cae5-a0137fc5895e"
      },
      "execution_count": 31,
      "outputs": [
        {
          "output_type": "stream",
          "name": "stdout",
          "text": [
            "Hello, my name is Turiano,Joshua S. and my schoolnumber is 202210028 from the school of Adamson University\n"
          ]
        }
      ]
    }
  ]
}