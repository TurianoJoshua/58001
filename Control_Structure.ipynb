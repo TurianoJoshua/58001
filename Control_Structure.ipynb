{
  "nbformat": 4,
  "nbformat_minor": 0,
  "metadata": {
    "colab": {
      "provenance": [],
      "authorship_tag": "ABX9TyOs3umTk1FgqBQdnGua4DjE",
      "include_colab_link": true
    },
    "kernelspec": {
      "name": "python3",
      "display_name": "Python 3"
    },
    "language_info": {
      "name": "python"
    }
  },
  "cells": [
    {
      "cell_type": "markdown",
      "metadata": {
        "id": "view-in-github",
        "colab_type": "text"
      },
      "source": [
        "<a href=\"https://colab.research.google.com/github/TurianoJoshua/OOP-58001/blob/main/Control_Structure.ipynb\" target=\"_parent\"><img src=\"https://colab.research.google.com/assets/colab-badge.svg\" alt=\"Open In Colab\"/></a>"
      ]
    },
    {
      "cell_type": "markdown",
      "source": [
        "Conditional Statement"
      ],
      "metadata": {
        "id": "lixVCoBuDeXJ"
      }
    },
    {
      "cell_type": "code",
      "execution_count": 6,
      "metadata": {
        "colab": {
          "base_uri": "https://localhost:8080/"
        },
        "id": "xRYoY3KVDYeJ",
        "outputId": "ca2e8383-2747-4f02-8851-bad90380a20f"
      },
      "outputs": [
        {
          "output_type": "stream",
          "name": "stdout",
          "text": [
            "b is greater than a\n",
            "c and d are equal\n",
            "e is greater than f\n",
            "5\n",
            "2\n",
            "x is greater than y\n"
          ]
        }
      ],
      "source": [
        "a = 12\n",
        "b = 100\n",
        "if b > a:\n",
        "  print(\"b is greater than a\")\n",
        "\n",
        "c = 12\n",
        "d = 12\n",
        "if d > c:\n",
        "  print(\"d is greater than a\")\n",
        "elif c==d:\n",
        "  print(\"c and d are equal\")\n",
        "\n",
        "e = 200\n",
        "f = 33\n",
        "if f > e:\n",
        "  print(\"f is greater than e\")\n",
        "elif e==f:\n",
        "  print(\"e and f are equal\")\n",
        "else:\n",
        "  print(\"e is greater than f\")\n",
        "\n",
        "x = int(input())\n",
        "y = int(input())\n",
        "\n",
        "if x>y:\n",
        "  print(\"x is greater than y\")"
      ]
    },
    {
      "cell_type": "markdown",
      "source": [
        "#elif statement"
      ],
      "metadata": {
        "id": "oYN8eeWiHXHy"
      }
    },
    {
      "cell_type": "code",
      "source": [
        "a = 100\n",
        "b = 50\n",
        "\n",
        "if a>b:\n",
        "  print(\"a is greater than b\")\n",
        "elif b>a:\n",
        "  print(\"b is greater than a\")"
      ],
      "metadata": {
        "colab": {
          "base_uri": "https://localhost:8080/"
        },
        "id": "FYkiHhXDHZWD",
        "outputId": "502671a1-28d8-4556-828f-e9dbfa828e32"
      },
      "execution_count": 8,
      "outputs": [
        {
          "output_type": "stream",
          "name": "stdout",
          "text": [
            "a is greater than b\n"
          ]
        }
      ]
    },
    {
      "cell_type": "markdown",
      "source": [
        "#Else Statment"
      ],
      "metadata": {
        "id": "6z2IfxRCH4d6"
      }
    },
    {
      "cell_type": "code",
      "source": [
        "e = 200\n",
        "f = 33\n",
        "if f > e:\n",
        "  print(\"f is greater than e\")\n",
        "elif e==f:\n",
        "  print(\"e and f are equal\")\n",
        "else:\n",
        "  print(\"e is greater than f\")"
      ],
      "metadata": {
        "id": "AOHeSxcWH4-6"
      },
      "execution_count": null,
      "outputs": []
    },
    {
      "cell_type": "markdown",
      "source": [
        "Nested if"
      ],
      "metadata": {
        "id": "hYUd7109ImZa"
      }
    },
    {
      "cell_type": "code",
      "source": [
        "x = 13\n",
        "\n",
        "if x > 10:\n",
        "  print(\"Above ten\")\n",
        "  if x > 20:\n",
        "    print(\"And also above 20!\")\n",
        "    if x > 30:\n",
        "      print(\"And also above 30!\")\n",
        "      if x > 40:\n",
        "        print(\"And also above 40!\")\n",
        "        if x<50:\n",
        "          print(\"below 50\")\n",
        "        else:\n",
        "         print(\"above 50\")\n",
        "      else:\n",
        "        print(\"but below 40\")\n",
        "    else:\n",
        "      print(\"but below 30\")\n",
        "  else:\n",
        "   print(\"below 20\")\n",
        " "
      ],
      "metadata": {
        "colab": {
          "base_uri": "https://localhost:8080/"
        },
        "id": "P92-jNK6IpcB",
        "outputId": "69e40bcd-0c84-48fa-e416-9fd335a168b5"
      },
      "execution_count": 31,
      "outputs": [
        {
          "output_type": "stream",
          "name": "stdout",
          "text": [
            "Above ten\n",
            "below 20\n"
          ]
        }
      ]
    },
    {
      "cell_type": "markdown",
      "source": [
        "Example"
      ],
      "metadata": {
        "id": "bYbG_uNAMIEn"
      }
    },
    {
      "cell_type": "code",
      "source": [
        "age = int(input())\n",
        "\n",
        "if age >= 18:\n",
        "  print(\"qualify to vote\")\n",
        "if age <= 18:\n",
        "  print(\"NOO\")"
      ],
      "metadata": {
        "colab": {
          "base_uri": "https://localhost:8080/"
        },
        "id": "x-Cd6fI1MJ4O",
        "outputId": "ddba32af-d03d-442c-eae6-07b827479a37"
      },
      "execution_count": 66,
      "outputs": [
        {
          "output_type": "stream",
          "name": "stdout",
          "text": [
            "14\n",
            "NOO\n"
          ]
        }
      ]
    },
    {
      "cell_type": "markdown",
      "source": [
        "Example 2"
      ],
      "metadata": {
        "id": "J-8XC6iNNOaM"
      }
    },
    {
      "cell_type": "code",
      "source": [
        "num = int(input())\n",
        "\n",
        "if num >= 1:\n",
        "  print(\"it is positive\")\n",
        "elif num <= -1:\n",
        "  print(\"it is negative\")\n",
        "else:\n",
        "  print(\"it is zero\")"
      ],
      "metadata": {
        "colab": {
          "base_uri": "https://localhost:8080/"
        },
        "id": "0sno0BGpNOCk",
        "outputId": "3b049d79-5dd0-4bc3-985f-be3370c2527d"
      },
      "execution_count": 45,
      "outputs": [
        {
          "output_type": "stream",
          "name": "stdout",
          "text": [
            "-50\n",
            "it is negative\n"
          ]
        }
      ]
    },
    {
      "cell_type": "markdown",
      "source": [
        "Example 3"
      ],
      "metadata": {
        "id": "unMhUON-Nzb-"
      }
    },
    {
      "cell_type": "code",
      "source": [
        "grade = float(input())\n",
        "\n",
        "if grade >= 70:\n",
        "  print(\"passed\")\n",
        "elif grade >= 65:\n",
        "  print(\"remedial\")\n",
        "elif grade >= 0:\n",
        "  print(\"failed\")\n",
        "else:\n",
        "  print(\"not accepted\")\n",
        "\n"
      ],
      "metadata": {
        "colab": {
          "base_uri": "https://localhost:8080/"
        },
        "id": "XQxVf2gpN1Z0",
        "outputId": "d46ca27b-9f94-4987-9eda-ef59f309b65e"
      },
      "execution_count": 74,
      "outputs": [
        {
          "output_type": "stream",
          "name": "stdout",
          "text": [
            "30\n",
            "failed\n"
          ]
        }
      ]
    }
  ]
}