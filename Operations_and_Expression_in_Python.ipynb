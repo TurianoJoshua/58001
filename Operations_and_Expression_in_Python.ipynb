{
  "nbformat": 4,
  "nbformat_minor": 0,
  "metadata": {
    "colab": {
      "provenance": [],
      "authorship_tag": "ABX9TyMK1mIWeweLuA0FCSzXEnbs",
      "include_colab_link": true
    },
    "kernelspec": {
      "name": "python3",
      "display_name": "Python 3"
    },
    "language_info": {
      "name": "python"
    }
  },
  "cells": [
    {
      "cell_type": "markdown",
      "metadata": {
        "id": "view-in-github",
        "colab_type": "text"
      },
      "source": [
        "<a href=\"https://colab.research.google.com/github/TurianoJoshua/OOP-58001/blob/main/Operations_and_Expression_in_Python.ipynb\" target=\"_parent\"><img src=\"https://colab.research.google.com/assets/colab-badge.svg\" alt=\"Open In Colab\"/></a>"
      ]
    },
    {
      "cell_type": "markdown",
      "source": [
        "Boolean Operators"
      ],
      "metadata": {
        "id": "sKelZRf4TLPV"
      }
    },
    {
      "cell_type": "code",
      "execution_count": 2,
      "metadata": {
        "colab": {
          "base_uri": "https://localhost:8080/"
        },
        "id": "twKHYoBpS_Tk",
        "outputId": "0ca9c0da-6e48-444b-ccf8-d3323f679fd7"
      },
      "outputs": [
        {
          "output_type": "stream",
          "name": "stdout",
          "text": [
            "True\n",
            "False\n",
            "False\n"
          ]
        }
      ],
      "source": [
        "print(10 > 9)\n",
        "print(10 == 9)\n",
        "print(10 < 9)"
      ]
    },
    {
      "cell_type": "markdown",
      "source": [
        "Bool() Functions"
      ],
      "metadata": {
        "id": "hcBHi_sdUvmt"
      }
    },
    {
      "cell_type": "code",
      "source": [
        "print(bool(\"Maria\"))\n",
        "print(bool(1))\n",
        "print(bool(0))\n",
        "print(bool(None))\n",
        "print(bool(True))"
      ],
      "metadata": {
        "colab": {
          "base_uri": "https://localhost:8080/"
        },
        "id": "NoLFyP6FUidV",
        "outputId": "1695766d-55ec-43dc-aa5d-0d8489df3e53"
      },
      "execution_count": 4,
      "outputs": [
        {
          "output_type": "stream",
          "name": "stdout",
          "text": [
            "True\n",
            "True\n",
            "False\n",
            "False\n",
            "True\n"
          ]
        }
      ]
    },
    {
      "cell_type": "markdown",
      "source": [
        "Functions can Return a Boolean"
      ],
      "metadata": {
        "id": "orl2OhvkVP29"
      }
    },
    {
      "cell_type": "code",
      "source": [
        "def peoples():\n",
        "  return True\n",
        "\n",
        "print(peoples())"
      ],
      "metadata": {
        "colab": {
          "base_uri": "https://localhost:8080/"
        },
        "id": "yXBL3t32VU08",
        "outputId": "04e29fa2-918e-45ac-d85d-82f1b3a0ed7f"
      },
      "execution_count": 7,
      "outputs": [
        {
          "output_type": "stream",
          "name": "stdout",
          "text": [
            "True\n"
          ]
        }
      ]
    },
    {
      "cell_type": "markdown",
      "source": [
        "Boolean answer of a function"
      ],
      "metadata": {
        "id": "qdHVmzEWV8yd"
      }
    },
    {
      "cell_type": "code",
      "source": [
        "def peoples():\n",
        "  return True\n",
        "\n",
        "if peoples():\n",
        "  print(\"Peoples will be happy\")\n",
        "else:\n",
        "  print(\"Definitly will be good\")"
      ],
      "metadata": {
        "colab": {
          "base_uri": "https://localhost:8080/"
        },
        "id": "EhJh6MJ9WdSl",
        "outputId": "0c895799-e42b-4db3-ef95-3707f63348df"
      },
      "execution_count": 8,
      "outputs": [
        {
          "output_type": "stream",
          "name": "stdout",
          "text": [
            "Peoples will be happy\n"
          ]
        }
      ]
    },
    {
      "cell_type": "markdown",
      "source": [
        "You Try!"
      ],
      "metadata": {
        "id": "MGo2kqxMXPDb"
      }
    },
    {
      "cell_type": "code",
      "source": [
        "print (10>9)\n",
        "\n",
        "a=6\n",
        "b=9\n",
        "print(a==b)\n",
        "print(a!=b)"
      ],
      "metadata": {
        "colab": {
          "base_uri": "https://localhost:8080/"
        },
        "id": "ZBM0peuvXTXD",
        "outputId": "e683dd4a-d5a7-4cae-ce40-143354369039"
      },
      "execution_count": 9,
      "outputs": [
        {
          "output_type": "stream",
          "name": "stdout",
          "text": [
            "True\n",
            "False\n",
            "True\n"
          ]
        }
      ]
    },
    {
      "cell_type": "markdown",
      "source": [
        "Python Operators"
      ],
      "metadata": {
        "id": "ZPXvA732XrMb"
      }
    },
    {
      "cell_type": "code",
      "source": [
        "print (10+5)\n",
        "print (10-5)\n",
        "print (10*5)\n",
        "print (10/5)\n",
        "print (10%5)\n",
        "print (10//3)\n",
        "print (10**2)"
      ],
      "metadata": {
        "colab": {
          "base_uri": "https://localhost:8080/"
        },
        "id": "lv5ymdQHXv1B",
        "outputId": "8fb18ac3-de12-4018-9035-825d230c3909"
      },
      "execution_count": 12,
      "outputs": [
        {
          "output_type": "stream",
          "name": "stdout",
          "text": [
            "15\n",
            "5\n",
            "50\n",
            "2.0\n",
            "0\n",
            "3\n",
            "100\n"
          ]
        }
      ]
    },
    {
      "cell_type": "markdown",
      "source": [
        "Python bitwise operators"
      ],
      "metadata": {
        "id": "UBYkgU6JY16S"
      }
    },
    {
      "cell_type": "code",
      "source": [
        "a = 60\n",
        "b = 13\n",
        "\n",
        "a>>1"
      ],
      "metadata": {
        "colab": {
          "base_uri": "https://localhost:8080/"
        },
        "id": "c-HsaJr4Zbly",
        "outputId": "74dbeeee-f391-42d2-835e-271c20a34d28"
      },
      "execution_count": 14,
      "outputs": [
        {
          "output_type": "execute_result",
          "data": {
            "text/plain": [
              "30"
            ]
          },
          "metadata": {},
          "execution_count": 14
        }
      ]
    },
    {
      "cell_type": "markdown",
      "source": [
        "Assignment Operators"
      ],
      "metadata": {
        "id": "LKU2FzaIgjJn"
      }
    },
    {
      "cell_type": "code",
      "source": [
        "x= 5\n",
        "x += 3\n",
        "\n",
        "b = 3\n",
        "b -= 3\n",
        "\n",
        "c= 3\n",
        "c *= 3\n",
        "\n",
        "e = 3\n",
        "e /= 3\n",
        "\n",
        "f = 3\n",
        "f %= 3\n",
        "\n",
        "\n",
        "print(x)\n",
        "print(b)\n",
        "print(c)\n",
        "print(e)\n",
        "print(f)"
      ],
      "metadata": {
        "colab": {
          "base_uri": "https://localhost:8080/"
        },
        "id": "5gp2uNyWgqDW",
        "outputId": "48670168-d86a-46d5-bc23-7338b3861355"
      },
      "execution_count": 22,
      "outputs": [
        {
          "output_type": "stream",
          "name": "stdout",
          "text": [
            "8\n",
            "0\n",
            "9\n",
            "1.0\n",
            "0\n"
          ]
        }
      ]
    },
    {
      "cell_type": "markdown",
      "source": [
        "Logical operators"
      ],
      "metadata": {
        "id": "HJAZgIzPiKmN"
      }
    },
    {
      "cell_type": "code",
      "source": [
        "#and or xor not\n",
        "a = True\n",
        "b = False\n",
        "\n",
        "print(not a)\n",
        "print(a and b)\n"
      ],
      "metadata": {
        "colab": {
          "base_uri": "https://localhost:8080/"
        },
        "id": "nyr3YJdnjKgd",
        "outputId": "a81f2b95-608a-44ad-af9d-d54d7f31b5eb"
      },
      "execution_count": 25,
      "outputs": [
        {
          "output_type": "stream",
          "name": "stdout",
          "text": [
            "False\n",
            "False\n"
          ]
        }
      ]
    },
    {
      "cell_type": "markdown",
      "source": [
        "identity operators"
      ],
      "metadata": {
        "id": "2lgaMR0Wj8b1"
      }
    },
    {
      "cell_type": "code",
      "source": [
        "a = True\n",
        "b = False\n",
        "\n",
        "print(a is a)\n",
        "print(a is b)"
      ],
      "metadata": {
        "colab": {
          "base_uri": "https://localhost:8080/"
        },
        "id": "UARIqJ_Fj-EO",
        "outputId": "647bab97-4856-4f14-ef8b-7916fa75e4c0"
      },
      "execution_count": 29,
      "outputs": [
        {
          "output_type": "stream",
          "name": "stdout",
          "text": [
            "True\n",
            "False\n"
          ]
        }
      ]
    }
  ]
}